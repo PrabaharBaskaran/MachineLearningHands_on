{
 "cells": [
  {
   "cell_type": "code",
   "execution_count": 1,
   "id": "fb45d67c",
   "metadata": {},
   "outputs": [],
   "source": [
    "import pickle\n",
    "filename=\"FinalizedModel.sav\""
   ]
  },
  {
   "cell_type": "code",
   "execution_count": 3,
   "id": "a3d70488",
   "metadata": {},
   "outputs": [],
   "source": [
    "loaded_model=pickle.load(open(filename,'rb'))"
   ]
  },
  {
   "cell_type": "code",
   "execution_count": 4,
   "id": "8015c42d",
   "metadata": {},
   "outputs": [
    {
     "name": "stderr",
     "output_type": "stream",
     "text": [
      "C:\\ProgramData\\anaconda3\\Lib\\site-packages\\sklearn\\base.py:464: UserWarning: X does not have valid feature names, but LinearRegression was fitted with feature names\n",
      "  warnings.warn(\n"
     ]
    },
    {
     "data": {
      "text/plain": [
       "array([[341.38160849]])"
      ]
     },
     "execution_count": 4,
     "metadata": {},
     "output_type": "execute_result"
    }
   ],
   "source": [
    "loaded_model.predict([[13.8]])"
   ]
  },
  {
   "cell_type": "code",
   "execution_count": null,
   "id": "bc452851",
   "metadata": {},
   "outputs": [],
   "source": []
  }
 ],
 "metadata": {
  "kernelspec": {
   "display_name": "Python 3 (ipykernel)",
   "language": "python",
   "name": "python3"
  },
  "language_info": {
   "codemirror_mode": {
    "name": "ipython",
    "version": 3
   },
   "file_extension": ".py",
   "mimetype": "text/x-python",
   "name": "python",
   "nbconvert_exporter": "python",
   "pygments_lexer": "ipython3",
   "version": "3.11.5"
  }
 },
 "nbformat": 4,
 "nbformat_minor": 5
}
